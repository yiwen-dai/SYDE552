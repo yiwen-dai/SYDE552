{
  "cells": [
    {
      "cell_type": "markdown",
      "metadata": {
        "id": "mma6OHDiEhcA"
      },
      "source": [
        "# Imports and Downloads"
      ]
    },
    {
      "cell_type": "code",
      "execution_count": 1,
      "metadata": {
        "colab": {
          "base_uri": "https://localhost:8080/"
        },
        "id": "ehWcQv2LEhcB",
        "outputId": "dbf42182-67b0-48fe-bda9-7198d274bb94"
      },
      "outputs": [
        {
          "name": "stdout",
          "output_type": "stream",
          "text": [
            "Looking in indexes: https://download.pytorch.org/whl/cu121\n",
            "Requirement already satisfied: pandas in /usr/local/lib/python3.10/dist-packages (2.0.3)\n",
            "Requirement already satisfied: numpy in /usr/local/lib/python3.10/dist-packages (1.25.2)\n",
            "Requirement already satisfied: scikit-learn in /usr/local/lib/python3.10/dist-packages (1.2.2)\n",
            "Requirement already satisfied: torch in /usr/local/lib/python3.10/dist-packages (2.2.1+cu121)\n",
            "Requirement already satisfied: python-dateutil>=2.8.2 in /usr/local/lib/python3.10/dist-packages (from pandas) (2.8.2)\n",
            "Requirement already satisfied: pytz>=2020.1 in /usr/local/lib/python3.10/dist-packages (from pandas) (2023.4)\n",
            "Requirement already satisfied: tzdata>=2022.1 in /usr/local/lib/python3.10/dist-packages (from pandas) (2024.1)\n",
            "Requirement already satisfied: scipy>=1.3.2 in /usr/local/lib/python3.10/dist-packages (from scikit-learn) (1.11.4)\n",
            "Requirement already satisfied: joblib>=1.1.1 in /usr/local/lib/python3.10/dist-packages (from scikit-learn) (1.4.0)\n",
            "Requirement already satisfied: threadpoolctl>=2.0.0 in /usr/local/lib/python3.10/dist-packages (from scikit-learn) (3.4.0)\n",
            "Requirement already satisfied: filelock in /usr/local/lib/python3.10/dist-packages (from torch) (3.13.4)\n",
            "Requirement already satisfied: typing-extensions>=4.8.0 in /usr/local/lib/python3.10/dist-packages (from torch) (4.11.0)\n",
            "Requirement already satisfied: sympy in /usr/local/lib/python3.10/dist-packages (from torch) (1.12)\n",
            "Requirement already satisfied: networkx in /usr/local/lib/python3.10/dist-packages (from torch) (3.3)\n",
            "Requirement already satisfied: jinja2 in /usr/local/lib/python3.10/dist-packages (from torch) (3.1.3)\n",
            "Requirement already satisfied: fsspec in /usr/local/lib/python3.10/dist-packages (from torch) (2023.6.0)\n",
            "Collecting nvidia-cuda-nvrtc-cu12==12.1.105 (from torch)\n",
            "  Downloading https://download.pytorch.org/whl/cu121/nvidia_cuda_nvrtc_cu12-12.1.105-py3-none-manylinux1_x86_64.whl (23.7 MB)\n",
            "\u001b[2K     \u001b[90m━━━━━━━━━━━━━━━━━━━━━━━━━━━━━━━━━━━━━━━━\u001b[0m \u001b[32m23.7/23.7 MB\u001b[0m \u001b[31m47.9 MB/s\u001b[0m eta \u001b[36m0:00:00\u001b[0m\n",
            "\u001b[?25hCollecting nvidia-cuda-runtime-cu12==12.1.105 (from torch)\n",
            "  Downloading https://download.pytorch.org/whl/cu121/nvidia_cuda_runtime_cu12-12.1.105-py3-none-manylinux1_x86_64.whl (823 kB)\n",
            "\u001b[2K     \u001b[90m━━━━━━━━━━━━━━━━━━━━━━━━━━━━━━━━━━━━━━━━\u001b[0m \u001b[32m823.6/823.6 kB\u001b[0m \u001b[31m47.5 MB/s\u001b[0m eta \u001b[36m0:00:00\u001b[0m\n",
            "\u001b[?25hCollecting nvidia-cuda-cupti-cu12==12.1.105 (from torch)\n",
            "  Downloading https://download.pytorch.org/whl/cu121/nvidia_cuda_cupti_cu12-12.1.105-py3-none-manylinux1_x86_64.whl (14.1 MB)\n",
            "\u001b[2K     \u001b[90m━━━━━━━━━━━━━━━━━━━━━━━━━━━━━━━━━━━━━━━━\u001b[0m \u001b[32m14.1/14.1 MB\u001b[0m \u001b[31m62.3 MB/s\u001b[0m eta \u001b[36m0:00:00\u001b[0m\n",
            "\u001b[?25hCollecting nvidia-cudnn-cu12==8.9.2.26 (from torch)\n",
            "  Downloading https://download.pytorch.org/whl/cu121/nvidia_cudnn_cu12-8.9.2.26-py3-none-manylinux1_x86_64.whl (731.7 MB)\n",
            "\u001b[2K     \u001b[90m━━━━━━━━━━━━━━━━━━━━━━━━━━━━━━━━━━━━━━━━\u001b[0m \u001b[32m731.7/731.7 MB\u001b[0m \u001b[31m787.4 kB/s\u001b[0m eta \u001b[36m0:00:00\u001b[0m\n",
            "\u001b[?25hCollecting nvidia-cublas-cu12==12.1.3.1 (from torch)\n",
            "  Downloading https://download.pytorch.org/whl/cu121/nvidia_cublas_cu12-12.1.3.1-py3-none-manylinux1_x86_64.whl (410.6 MB)\n",
            "\u001b[2K     \u001b[90m━━━━━━━━━━━━━━━━━━━━━━━━━━━━━━━━━━━━━━━━\u001b[0m \u001b[32m410.6/410.6 MB\u001b[0m \u001b[31m1.6 MB/s\u001b[0m eta \u001b[36m0:00:00\u001b[0m\n",
            "\u001b[?25hCollecting nvidia-cufft-cu12==11.0.2.54 (from torch)\n",
            "  Downloading https://download.pytorch.org/whl/cu121/nvidia_cufft_cu12-11.0.2.54-py3-none-manylinux1_x86_64.whl (121.6 MB)\n",
            "\u001b[2K     \u001b[90m━━━━━━━━━━━━━━━━━━━━━━━━━━━━━━━━━━━━━━━━\u001b[0m \u001b[32m121.6/121.6 MB\u001b[0m \u001b[31m8.6 MB/s\u001b[0m eta \u001b[36m0:00:00\u001b[0m\n",
            "\u001b[?25hCollecting nvidia-curand-cu12==10.3.2.106 (from torch)\n",
            "  Downloading https://download.pytorch.org/whl/cu121/nvidia_curand_cu12-10.3.2.106-py3-none-manylinux1_x86_64.whl (56.5 MB)\n",
            "\u001b[2K     \u001b[90m━━━━━━━━━━━━━━━━━━━━━━━━━━━━━━━━━━━━━━━━\u001b[0m \u001b[32m56.5/56.5 MB\u001b[0m \u001b[31m11.3 MB/s\u001b[0m eta \u001b[36m0:00:00\u001b[0m\n",
            "\u001b[?25hCollecting nvidia-cusolver-cu12==11.4.5.107 (from torch)\n",
            "  Downloading https://download.pytorch.org/whl/cu121/nvidia_cusolver_cu12-11.4.5.107-py3-none-manylinux1_x86_64.whl (124.2 MB)\n",
            "\u001b[2K     \u001b[90m━━━━━━━━━━━━━━━━━━━━━━━━━━━━━━━━━━━━━━━━\u001b[0m \u001b[32m124.2/124.2 MB\u001b[0m \u001b[31m9.0 MB/s\u001b[0m eta \u001b[36m0:00:00\u001b[0m\n",
            "\u001b[?25hCollecting nvidia-cusparse-cu12==12.1.0.106 (from torch)\n",
            "  Downloading https://download.pytorch.org/whl/cu121/nvidia_cusparse_cu12-12.1.0.106-py3-none-manylinux1_x86_64.whl (196.0 MB)\n",
            "\u001b[2K     \u001b[90m━━━━━━━━━━━━━━━━━━━━━━━━━━━━━━━━━━━━━━━━\u001b[0m \u001b[32m196.0/196.0 MB\u001b[0m \u001b[31m6.0 MB/s\u001b[0m eta \u001b[36m0:00:00\u001b[0m\n",
            "\u001b[?25hCollecting nvidia-nccl-cu12==2.19.3 (from torch)\n",
            "  Downloading https://download.pytorch.org/whl/cu121/nvidia_nccl_cu12-2.19.3-py3-none-manylinux1_x86_64.whl (166.0 MB)\n",
            "\u001b[2K     \u001b[90m━━━━━━━━━━━━━━━━━━━━━━━━━━━━━━━━━━━━━━━━\u001b[0m \u001b[32m166.0/166.0 MB\u001b[0m \u001b[31m5.2 MB/s\u001b[0m eta \u001b[36m0:00:00\u001b[0m\n",
            "\u001b[?25hCollecting nvidia-nvtx-cu12==12.1.105 (from torch)\n",
            "  Downloading https://download.pytorch.org/whl/cu121/nvidia_nvtx_cu12-12.1.105-py3-none-manylinux1_x86_64.whl (99 kB)\n",
            "\u001b[2K     \u001b[90m━━━━━━━━━━━━━━━━━━━━━━━━━━━━━━━━━━━━━━━━\u001b[0m \u001b[32m99.1/99.1 kB\u001b[0m \u001b[31m12.7 MB/s\u001b[0m eta \u001b[36m0:00:00\u001b[0m\n",
            "\u001b[?25hRequirement already satisfied: triton==2.2.0 in /usr/local/lib/python3.10/dist-packages (from torch) (2.2.0)\n",
            "Collecting nvidia-nvjitlink-cu12 (from nvidia-cusolver-cu12==11.4.5.107->torch)\n",
            "  Downloading https://download.pytorch.org/whl/cu121/nvidia_nvjitlink_cu12-12.1.105-py3-none-manylinux1_x86_64.whl (19.8 MB)\n",
            "\u001b[2K     \u001b[90m━━━━━━━━━━━━━━━━━━━━━━━━━━━━━━━━━━━━━━━━\u001b[0m \u001b[32m19.8/19.8 MB\u001b[0m \u001b[31m48.8 MB/s\u001b[0m eta \u001b[36m0:00:00\u001b[0m\n",
            "\u001b[?25hRequirement already satisfied: six>=1.5 in /usr/local/lib/python3.10/dist-packages (from python-dateutil>=2.8.2->pandas) (1.16.0)\n",
            "Requirement already satisfied: MarkupSafe>=2.0 in /usr/local/lib/python3.10/dist-packages (from jinja2->torch) (2.1.5)\n",
            "Requirement already satisfied: mpmath>=0.19 in /usr/local/lib/python3.10/dist-packages (from sympy->torch) (1.3.0)\n",
            "Installing collected packages: nvidia-nvtx-cu12, nvidia-nvjitlink-cu12, nvidia-nccl-cu12, nvidia-curand-cu12, nvidia-cufft-cu12, nvidia-cuda-runtime-cu12, nvidia-cuda-nvrtc-cu12, nvidia-cuda-cupti-cu12, nvidia-cublas-cu12, nvidia-cusparse-cu12, nvidia-cudnn-cu12, nvidia-cusolver-cu12\n",
            "Successfully installed nvidia-cublas-cu12-12.1.3.1 nvidia-cuda-cupti-cu12-12.1.105 nvidia-cuda-nvrtc-cu12-12.1.105 nvidia-cuda-runtime-cu12-12.1.105 nvidia-cudnn-cu12-8.9.2.26 nvidia-cufft-cu12-11.0.2.54 nvidia-curand-cu12-10.3.2.106 nvidia-cusolver-cu12-11.4.5.107 nvidia-cusparse-cu12-12.1.0.106 nvidia-nccl-cu12-2.19.3 nvidia-nvjitlink-cu12-12.1.105 nvidia-nvtx-cu12-12.1.105\n"
          ]
        }
      ],
      "source": [
        "# download dependencies if needed\n",
        "%pip install pandas numpy scikit-learn torch --index-url https://download.pytorch.org/whl/cu121"
      ]
    },
    {
      "cell_type": "code",
      "execution_count": 4,
      "metadata": {
        "id": "miNQtQreEhcB"
      },
      "outputs": [],
      "source": [
        "import os\n",
        "from os import walk\n",
        "\n",
        "import matplotlib.pyplot as plt\n",
        "import numpy as np\n",
        "import pandas as pd\n",
        "from tqdm import tqdm\n",
        "import random\n",
        "\n",
        "import torch\n",
        "import torchvision\n",
        "import torchvision.datasets as dset\n",
        "import torchvision.models as models\n",
        "import torchvision.transforms as transforms\n",
        "import torch.nn.functional as F\n",
        "\n",
        "from torch import nn\n",
        "from torchvision.transforms import ToTensor\n",
        "from torchvision.io import read_image, ImageReadMode\n",
        "from torch.utils.data import Dataset, DataLoader\n",
        "from torch.autograd import Variable\n",
        "from torch.utils.data.dataset import random_split\n",
        "\n",
        "from PIL import Image\n",
        "from sklearn.preprocessing import LabelEncoder"
      ]
    },
    {
      "cell_type": "markdown",
      "metadata": {
        "id": "XB0qkDk_EhcC"
      },
      "source": [
        "# Import and Process Data"
      ]
    },
    {
      "cell_type": "code",
      "execution_count": 5,
      "metadata": {
        "id": "Y42lCg-zEhcC"
      },
      "outputs": [],
      "source": [
        "train_img_path = './images/train/'\n",
        "test_img_path = './images/test/'\n",
        "\n",
        "# Dataframes\n",
        "train_df = pd.read_csv('fairface_label_train.csv')\n",
        "test_df = pd.read_csv('fairface_label_test.csv')"
      ]
    },
    {
      "cell_type": "code",
      "execution_count": 6,
      "metadata": {
        "colab": {
          "base_uri": "https://localhost:8080/",
          "height": 206
        },
        "id": "d56c6LFjEhcC",
        "outputId": "ce3bc6be-d716-4154-d598-f681f67ba51f"
      },
      "outputs": [
        {
          "data": {
            "application/vnd.google.colaboratory.intrinsic+json": {
              "summary": "{\n  \"name\": \"train_df\",\n  \"rows\": 86744,\n  \"fields\": [\n    {\n      \"column\": \"file\",\n      \"properties\": {\n        \"dtype\": \"string\",\n        \"num_unique_values\": 86744,\n        \"samples\": [\n          \"train/47414.jpg\",\n          \"train/52264.jpg\",\n          \"train/21584.jpg\"\n        ],\n        \"semantic_type\": \"\",\n        \"description\": \"\"\n      }\n    },\n    {\n      \"column\": \"age\",\n      \"properties\": {\n        \"dtype\": \"category\",\n        \"num_unique_values\": 9,\n        \"samples\": [\n          \"0-2\",\n          \"30-39\",\n          \"10-19\"\n        ],\n        \"semantic_type\": \"\",\n        \"description\": \"\"\n      }\n    },\n    {\n      \"column\": \"gender\",\n      \"properties\": {\n        \"dtype\": \"category\",\n        \"num_unique_values\": 2,\n        \"samples\": [\n          \"Female\",\n          \"Male\"\n        ],\n        \"semantic_type\": \"\",\n        \"description\": \"\"\n      }\n    },\n    {\n      \"column\": \"race\",\n      \"properties\": {\n        \"dtype\": \"category\",\n        \"num_unique_values\": 7,\n        \"samples\": [\n          \"East Asian\",\n          \"Indian\"\n        ],\n        \"semantic_type\": \"\",\n        \"description\": \"\"\n      }\n    },\n    {\n      \"column\": \"service_test\",\n      \"properties\": {\n        \"dtype\": \"boolean\",\n        \"num_unique_values\": 2,\n        \"samples\": [\n          false,\n          true\n        ],\n        \"semantic_type\": \"\",\n        \"description\": \"\"\n      }\n    },\n    {\n      \"column\": \"age_encoded\",\n      \"properties\": {\n        \"dtype\": \"number\",\n        \"std\": 1,\n        \"min\": 0,\n        \"max\": 8,\n        \"num_unique_values\": 9,\n        \"samples\": [\n          0,\n          4\n        ],\n        \"semantic_type\": \"\",\n        \"description\": \"\"\n      }\n    },\n    {\n      \"column\": \"gender_encoded\",\n      \"properties\": {\n        \"dtype\": \"number\",\n        \"std\": 0,\n        \"min\": 0,\n        \"max\": 1,\n        \"num_unique_values\": 2,\n        \"samples\": [\n          0,\n          1\n        ],\n        \"semantic_type\": \"\",\n        \"description\": \"\"\n      }\n    },\n    {\n      \"column\": \"label\",\n      \"properties\": {\n        \"dtype\": \"number\",\n        \"std\": 4,\n        \"min\": 0,\n        \"max\": 17,\n        \"num_unique_values\": 18,\n        \"samples\": [\n          15,\n          4\n        ],\n        \"semantic_type\": \"\",\n        \"description\": \"\"\n      }\n    }\n  ]\n}",
              "type": "dataframe",
              "variable_name": "train_df"
            },
            "text/html": [
              "\n",
              "  <div id=\"df-5f7ef5f6-b64d-4989-af52-b6574a884580\" class=\"colab-df-container\">\n",
              "    <div>\n",
              "<style scoped>\n",
              "    .dataframe tbody tr th:only-of-type {\n",
              "        vertical-align: middle;\n",
              "    }\n",
              "\n",
              "    .dataframe tbody tr th {\n",
              "        vertical-align: top;\n",
              "    }\n",
              "\n",
              "    .dataframe thead th {\n",
              "        text-align: right;\n",
              "    }\n",
              "</style>\n",
              "<table border=\"1\" class=\"dataframe\">\n",
              "  <thead>\n",
              "    <tr style=\"text-align: right;\">\n",
              "      <th></th>\n",
              "      <th>file</th>\n",
              "      <th>age</th>\n",
              "      <th>gender</th>\n",
              "      <th>race</th>\n",
              "      <th>service_test</th>\n",
              "      <th>age_encoded</th>\n",
              "      <th>gender_encoded</th>\n",
              "      <th>label</th>\n",
              "    </tr>\n",
              "  </thead>\n",
              "  <tbody>\n",
              "    <tr>\n",
              "      <th>0</th>\n",
              "      <td>train/1.jpg</td>\n",
              "      <td>50-59</td>\n",
              "      <td>Male</td>\n",
              "      <td>East Asian</td>\n",
              "      <td>True</td>\n",
              "      <td>6</td>\n",
              "      <td>1</td>\n",
              "      <td>15</td>\n",
              "    </tr>\n",
              "    <tr>\n",
              "      <th>1</th>\n",
              "      <td>train/2.jpg</td>\n",
              "      <td>30-39</td>\n",
              "      <td>Female</td>\n",
              "      <td>Indian</td>\n",
              "      <td>False</td>\n",
              "      <td>4</td>\n",
              "      <td>0</td>\n",
              "      <td>4</td>\n",
              "    </tr>\n",
              "    <tr>\n",
              "      <th>2</th>\n",
              "      <td>train/3.jpg</td>\n",
              "      <td>3-9</td>\n",
              "      <td>Female</td>\n",
              "      <td>Black</td>\n",
              "      <td>False</td>\n",
              "      <td>3</td>\n",
              "      <td>0</td>\n",
              "      <td>3</td>\n",
              "    </tr>\n",
              "    <tr>\n",
              "      <th>3</th>\n",
              "      <td>train/4.jpg</td>\n",
              "      <td>20-29</td>\n",
              "      <td>Female</td>\n",
              "      <td>Indian</td>\n",
              "      <td>True</td>\n",
              "      <td>2</td>\n",
              "      <td>0</td>\n",
              "      <td>2</td>\n",
              "    </tr>\n",
              "    <tr>\n",
              "      <th>4</th>\n",
              "      <td>train/5.jpg</td>\n",
              "      <td>20-29</td>\n",
              "      <td>Female</td>\n",
              "      <td>Indian</td>\n",
              "      <td>True</td>\n",
              "      <td>2</td>\n",
              "      <td>0</td>\n",
              "      <td>2</td>\n",
              "    </tr>\n",
              "  </tbody>\n",
              "</table>\n",
              "</div>\n",
              "    <div class=\"colab-df-buttons\">\n",
              "\n",
              "  <div class=\"colab-df-container\">\n",
              "    <button class=\"colab-df-convert\" onclick=\"convertToInteractive('df-5f7ef5f6-b64d-4989-af52-b6574a884580')\"\n",
              "            title=\"Convert this dataframe to an interactive table.\"\n",
              "            style=\"display:none;\">\n",
              "\n",
              "  <svg xmlns=\"http://www.w3.org/2000/svg\" height=\"24px\" viewBox=\"0 -960 960 960\">\n",
              "    <path d=\"M120-120v-720h720v720H120Zm60-500h600v-160H180v160Zm220 220h160v-160H400v160Zm0 220h160v-160H400v160ZM180-400h160v-160H180v160Zm440 0h160v-160H620v160ZM180-180h160v-160H180v160Zm440 0h160v-160H620v160Z\"/>\n",
              "  </svg>\n",
              "    </button>\n",
              "\n",
              "  <style>\n",
              "    .colab-df-container {\n",
              "      display:flex;\n",
              "      gap: 12px;\n",
              "    }\n",
              "\n",
              "    .colab-df-convert {\n",
              "      background-color: #E8F0FE;\n",
              "      border: none;\n",
              "      border-radius: 50%;\n",
              "      cursor: pointer;\n",
              "      display: none;\n",
              "      fill: #1967D2;\n",
              "      height: 32px;\n",
              "      padding: 0 0 0 0;\n",
              "      width: 32px;\n",
              "    }\n",
              "\n",
              "    .colab-df-convert:hover {\n",
              "      background-color: #E2EBFA;\n",
              "      box-shadow: 0px 1px 2px rgba(60, 64, 67, 0.3), 0px 1px 3px 1px rgba(60, 64, 67, 0.15);\n",
              "      fill: #174EA6;\n",
              "    }\n",
              "\n",
              "    .colab-df-buttons div {\n",
              "      margin-bottom: 4px;\n",
              "    }\n",
              "\n",
              "    [theme=dark] .colab-df-convert {\n",
              "      background-color: #3B4455;\n",
              "      fill: #D2E3FC;\n",
              "    }\n",
              "\n",
              "    [theme=dark] .colab-df-convert:hover {\n",
              "      background-color: #434B5C;\n",
              "      box-shadow: 0px 1px 3px 1px rgba(0, 0, 0, 0.15);\n",
              "      filter: drop-shadow(0px 1px 2px rgba(0, 0, 0, 0.3));\n",
              "      fill: #FFFFFF;\n",
              "    }\n",
              "  </style>\n",
              "\n",
              "    <script>\n",
              "      const buttonEl =\n",
              "        document.querySelector('#df-5f7ef5f6-b64d-4989-af52-b6574a884580 button.colab-df-convert');\n",
              "      buttonEl.style.display =\n",
              "        google.colab.kernel.accessAllowed ? 'block' : 'none';\n",
              "\n",
              "      async function convertToInteractive(key) {\n",
              "        const element = document.querySelector('#df-5f7ef5f6-b64d-4989-af52-b6574a884580');\n",
              "        const dataTable =\n",
              "          await google.colab.kernel.invokeFunction('convertToInteractive',\n",
              "                                                    [key], {});\n",
              "        if (!dataTable) return;\n",
              "\n",
              "        const docLinkHtml = 'Like what you see? Visit the ' +\n",
              "          '<a target=\"_blank\" href=https://colab.research.google.com/notebooks/data_table.ipynb>data table notebook</a>'\n",
              "          + ' to learn more about interactive tables.';\n",
              "        element.innerHTML = '';\n",
              "        dataTable['output_type'] = 'display_data';\n",
              "        await google.colab.output.renderOutput(dataTable, element);\n",
              "        const docLink = document.createElement('div');\n",
              "        docLink.innerHTML = docLinkHtml;\n",
              "        element.appendChild(docLink);\n",
              "      }\n",
              "    </script>\n",
              "  </div>\n",
              "\n",
              "\n",
              "<div id=\"df-c0efb492-e6a7-4c19-9f8b-f348be9c3e1f\">\n",
              "  <button class=\"colab-df-quickchart\" onclick=\"quickchart('df-c0efb492-e6a7-4c19-9f8b-f348be9c3e1f')\"\n",
              "            title=\"Suggest charts\"\n",
              "            style=\"display:none;\">\n",
              "\n",
              "<svg xmlns=\"http://www.w3.org/2000/svg\" height=\"24px\"viewBox=\"0 0 24 24\"\n",
              "     width=\"24px\">\n",
              "    <g>\n",
              "        <path d=\"M19 3H5c-1.1 0-2 .9-2 2v14c0 1.1.9 2 2 2h14c1.1 0 2-.9 2-2V5c0-1.1-.9-2-2-2zM9 17H7v-7h2v7zm4 0h-2V7h2v10zm4 0h-2v-4h2v4z\"/>\n",
              "    </g>\n",
              "</svg>\n",
              "  </button>\n",
              "\n",
              "<style>\n",
              "  .colab-df-quickchart {\n",
              "      --bg-color: #E8F0FE;\n",
              "      --fill-color: #1967D2;\n",
              "      --hover-bg-color: #E2EBFA;\n",
              "      --hover-fill-color: #174EA6;\n",
              "      --disabled-fill-color: #AAA;\n",
              "      --disabled-bg-color: #DDD;\n",
              "  }\n",
              "\n",
              "  [theme=dark] .colab-df-quickchart {\n",
              "      --bg-color: #3B4455;\n",
              "      --fill-color: #D2E3FC;\n",
              "      --hover-bg-color: #434B5C;\n",
              "      --hover-fill-color: #FFFFFF;\n",
              "      --disabled-bg-color: #3B4455;\n",
              "      --disabled-fill-color: #666;\n",
              "  }\n",
              "\n",
              "  .colab-df-quickchart {\n",
              "    background-color: var(--bg-color);\n",
              "    border: none;\n",
              "    border-radius: 50%;\n",
              "    cursor: pointer;\n",
              "    display: none;\n",
              "    fill: var(--fill-color);\n",
              "    height: 32px;\n",
              "    padding: 0;\n",
              "    width: 32px;\n",
              "  }\n",
              "\n",
              "  .colab-df-quickchart:hover {\n",
              "    background-color: var(--hover-bg-color);\n",
              "    box-shadow: 0 1px 2px rgba(60, 64, 67, 0.3), 0 1px 3px 1px rgba(60, 64, 67, 0.15);\n",
              "    fill: var(--button-hover-fill-color);\n",
              "  }\n",
              "\n",
              "  .colab-df-quickchart-complete:disabled,\n",
              "  .colab-df-quickchart-complete:disabled:hover {\n",
              "    background-color: var(--disabled-bg-color);\n",
              "    fill: var(--disabled-fill-color);\n",
              "    box-shadow: none;\n",
              "  }\n",
              "\n",
              "  .colab-df-spinner {\n",
              "    border: 2px solid var(--fill-color);\n",
              "    border-color: transparent;\n",
              "    border-bottom-color: var(--fill-color);\n",
              "    animation:\n",
              "      spin 1s steps(1) infinite;\n",
              "  }\n",
              "\n",
              "  @keyframes spin {\n",
              "    0% {\n",
              "      border-color: transparent;\n",
              "      border-bottom-color: var(--fill-color);\n",
              "      border-left-color: var(--fill-color);\n",
              "    }\n",
              "    20% {\n",
              "      border-color: transparent;\n",
              "      border-left-color: var(--fill-color);\n",
              "      border-top-color: var(--fill-color);\n",
              "    }\n",
              "    30% {\n",
              "      border-color: transparent;\n",
              "      border-left-color: var(--fill-color);\n",
              "      border-top-color: var(--fill-color);\n",
              "      border-right-color: var(--fill-color);\n",
              "    }\n",
              "    40% {\n",
              "      border-color: transparent;\n",
              "      border-right-color: var(--fill-color);\n",
              "      border-top-color: var(--fill-color);\n",
              "    }\n",
              "    60% {\n",
              "      border-color: transparent;\n",
              "      border-right-color: var(--fill-color);\n",
              "    }\n",
              "    80% {\n",
              "      border-color: transparent;\n",
              "      border-right-color: var(--fill-color);\n",
              "      border-bottom-color: var(--fill-color);\n",
              "    }\n",
              "    90% {\n",
              "      border-color: transparent;\n",
              "      border-bottom-color: var(--fill-color);\n",
              "    }\n",
              "  }\n",
              "</style>\n",
              "\n",
              "  <script>\n",
              "    async function quickchart(key) {\n",
              "      const quickchartButtonEl =\n",
              "        document.querySelector('#' + key + ' button');\n",
              "      quickchartButtonEl.disabled = true;  // To prevent multiple clicks.\n",
              "      quickchartButtonEl.classList.add('colab-df-spinner');\n",
              "      try {\n",
              "        const charts = await google.colab.kernel.invokeFunction(\n",
              "            'suggestCharts', [key], {});\n",
              "      } catch (error) {\n",
              "        console.error('Error during call to suggestCharts:', error);\n",
              "      }\n",
              "      quickchartButtonEl.classList.remove('colab-df-spinner');\n",
              "      quickchartButtonEl.classList.add('colab-df-quickchart-complete');\n",
              "    }\n",
              "    (() => {\n",
              "      let quickchartButtonEl =\n",
              "        document.querySelector('#df-c0efb492-e6a7-4c19-9f8b-f348be9c3e1f button');\n",
              "      quickchartButtonEl.style.display =\n",
              "        google.colab.kernel.accessAllowed ? 'block' : 'none';\n",
              "    })();\n",
              "  </script>\n",
              "</div>\n",
              "\n",
              "    </div>\n",
              "  </div>\n"
            ],
            "text/plain": [
              "          file    age  gender        race  service_test  age_encoded  \\\n",
              "0  train/1.jpg  50-59    Male  East Asian          True            6   \n",
              "1  train/2.jpg  30-39  Female      Indian         False            4   \n",
              "2  train/3.jpg    3-9  Female       Black         False            3   \n",
              "3  train/4.jpg  20-29  Female      Indian          True            2   \n",
              "4  train/5.jpg  20-29  Female      Indian          True            2   \n",
              "\n",
              "   gender_encoded  label  \n",
              "0               1     15  \n",
              "1               0      4  \n",
              "2               0      3  \n",
              "3               0      2  \n",
              "4               0      2  "
            ]
          },
          "execution_count": 6,
          "metadata": {},
          "output_type": "execute_result"
        }
      ],
      "source": [
        "# Remove service_test column (unused: see issue https://github.com/joojs/fairface/issues/9)\n",
        "# train_df = train_df.drop('service_test', axis=1)\n",
        "# test_df = test_df.drop('service_test', axis=1)\n",
        "\n",
        "\n",
        "# Encode age, gender, and race\n",
        "#    and keep map for each: {encoded_label: actual_label}\n",
        "le = LabelEncoder()\n",
        "\n",
        "age_encoded = le.fit_transform(train_df['age'])\n",
        "train_df['age_encoded'] = age_encoded\n",
        "age_map = {i: l for i, l in enumerate(le.classes_)}\n",
        "age_encoded = le.fit_transform(test_df['age'])\n",
        "test_df['age_encoded'] = age_encoded\n",
        "\n",
        "gender_encoded = le.fit_transform(train_df['gender'])\n",
        "train_df['gender_encoded'] = gender_encoded\n",
        "gender_map = {i: l for i, l in enumerate(le.classes_)}\n",
        "gender_encoded = le.fit_transform(test_df['gender'])\n",
        "test_df['gender_encoded'] = gender_encoded\n",
        "\n",
        "# Assign each picture one class: age gender\n",
        "label_map = {}\n",
        "for gender_key, gender_value in gender_map.items():\n",
        "    for age_key, age_value in age_map.items():\n",
        "        label_key = age_key + gender_key * len(age_map)\n",
        "        label_value = f'{age_value} {gender_value}'\n",
        "        label_map[label_key] = label_value\n",
        "train_df['label'] = train_df['age_encoded'] + train_df['gender_encoded'] * len(age_map)\n",
        "test_df['label'] = test_df['age_encoded'] + test_df['gender_encoded'] * len(age_map)\n",
        "\n",
        "# Sample data from train_df\n",
        "train_df.head()"
      ]
    },
    {
      "cell_type": "code",
      "execution_count": 7,
      "metadata": {
        "colab": {
          "base_uri": "https://localhost:8080/"
        },
        "id": "s61-E4k_EhcC",
        "outputId": "7b6c4db0-ca37-4120-cc32-0b3afecd33c1"
      },
      "outputs": [
        {
          "name": "stdout",
          "output_type": "stream",
          "text": [
            "{0: '0-2 Female', 1: '10-19 Female', 2: '20-29 Female', 3: '3-9 Female', 4: '30-39 Female', 5: '40-49 Female', 6: '50-59 Female', 7: '60-69 Female', 8: 'more than 70 Female', 9: '0-2 Male', 10: '10-19 Male', 11: '20-29 Male', 12: '3-9 Male', 13: '30-39 Male', 14: '40-49 Male', 15: '50-59 Male', 16: '60-69 Male', 17: 'more than 70 Male'}\n"
          ]
        }
      ],
      "source": [
        "# Mapping of class\n",
        "print(label_map)"
      ]
    },
    {
      "cell_type": "code",
      "execution_count": 8,
      "metadata": {
        "id": "gONeIQxuEhcC"
      },
      "outputs": [],
      "source": [
        "# Custom dataset to get image and custom label\n",
        "class ImageDataset(Dataset):\n",
        "    def __init__(self, data_frame, root_dir='./images/', transform=None):\n",
        "        self.data_frame = data_frame\n",
        "        self.root_dir = root_dir\n",
        "        self.transform = transform\n",
        "\n",
        "    def __len__(self):\n",
        "        # Return the length of the dataset\n",
        "        return len(self.data_frame)\n",
        "\n",
        "    def __getitem__(self, idx):\n",
        "        if torch.is_tensor(idx):\n",
        "            idx = idx.tolist()\n",
        "\n",
        "        # image\n",
        "        img_path = os.path.join(self.root_dir, self.data_frame.iloc[idx]['file'])\n",
        "        image = Image.open(img_path)\n",
        "        image = image.resize((64, 64), Image.Resampling.BILINEAR)  # resize to allow faster training\n",
        "\n",
        "        if self.transform:\n",
        "            image = self.transform(image)\n",
        "\n",
        "        image = (np.array(image))\n",
        "        image = image.transpose(2,0,1)\n",
        "        image = image.astype(dtype='float32')\n",
        "        image = image / 255.0\n",
        "\n",
        "\n",
        "        # label\n",
        "        category = self.data_frame.iloc[idx]['label']\n",
        "\n",
        "        return image, category"
      ]
    },
    {
      "cell_type": "code",
      "execution_count": 9,
      "metadata": {
        "id": "ej9b6oXHEhcC"
      },
      "outputs": [],
      "source": [
        "# Set up diff dataframes for diff training and testing purposes\n",
        "homogeneous_train_df = train_df[train_df['race'] == 'White']\n",
        "heterogeneous_train_df = train_df\n",
        "homogeneous_test_df = test_df[test_df['race'] == 'White']\n",
        "heterogeneous_test_df = test_df"
      ]
    },
    {
      "cell_type": "code",
      "execution_count": 10,
      "metadata": {
        "id": "X8O7xJw6EhcC"
      },
      "outputs": [],
      "source": [
        "# Sample training sets\n",
        "homogeneous_train_set = ImageDataset(data_frame=homogeneous_train_df)\n",
        "homogeneous_train_loader = DataLoader(homogeneous_train_set, batch_size=64)\n",
        "\n",
        "# Sample test sets\n",
        "homogeneous_test_set = ImageDataset(data_frame=homogeneous_test_df)\n",
        "homogeneous_test_loader = DataLoader(homogeneous_test_set, batch_size=64)\n"
      ]
    },
    {
      "cell_type": "code",
      "execution_count": 11,
      "metadata": {
        "colab": {
          "base_uri": "https://localhost:8080/",
          "height": 467
        },
        "id": "rLBLm5oTEhcC",
        "outputId": "c0acad47-a4c9-462a-a80b-ae52f951dc7d"
      },
      "outputs": [
        {
          "name": "stdout",
          "output_type": "stream",
          "text": [
            "torch.Size([3, 64, 64])\n",
            "label: 13, which maps to 30-39 Male\n"
          ]
        },
        {
          "data": {
            "image/png": "[encoded data removed]",
            "text/plain": [
              "<Figure size 640x480 with 1 Axes>"
            ]
          },
          "metadata": {},
          "output_type": "display_data"
        }
      ],
      "source": [
        "# Sample iterations\n",
        "sample_loader = DataLoader(homogeneous_test_set, batch_size=1, shuffle=False)\n",
        "sample_iter = iter(sample_loader)\n",
        "\n",
        "# Uncomment/add more to iterate through the dataloader\n",
        "# sample_img, sample_label = next(sample_iter)\n",
        "# sample_img, sample_label = next(sample_iter)\n",
        "# sample_img, sample_label = next(sample_iter)\n",
        "# sample_img, sample_label = next(sample_iter)\n",
        "\n",
        "sample_img, sample_label = next(sample_iter)\n",
        "sample_img = sample_img.squeeze()\n",
        "print(sample_img.shape)\n",
        "plt.imshow(sample_img.numpy().transpose(1,2,0))\n",
        "print(f'label: {sample_label.item()}, which maps to ' + label_map[sample_label.item()])"
      ]
    },
    {
      "cell_type": "markdown",
      "metadata": {
        "id": "uyz88T9cEhcC"
      },
      "source": [
        "# Model"
      ]
    },
    {
      "cell_type": "code",
      "execution_count": 12,
      "metadata": {
        "colab": {
          "base_uri": "https://localhost:8080/"
        },
        "id": "W4MUtE3AEhcC",
        "outputId": "4cdcde4b-507b-430c-e9bc-9db04a135da6"
      },
      "outputs": [
        {
          "name": "stdout",
          "output_type": "stream",
          "text": [
            "Using cuda device\n"
          ]
        }
      ],
      "source": [
        "# Get cpu or gpu device for training.\n",
        "device = \"cuda\" if torch.cuda.is_available() else \"mps\" if torch.backends.mps.is_available() else \"cpu\"\n",
        "print(f\"Using {device} device\")"
      ]
    },
    {
      "cell_type": "code",
      "execution_count": 13,
      "metadata": {
        "id": "UoJ1SQXioLPS"
      },
      "outputs": [],
      "source": [
        "# Define custom CNN class for multiclass image classification\n",
        "class CNN(nn.Module):\n",
        "    def __init__(self):\n",
        "        super().__init__()\n",
        "        self.conv1 = nn.Conv2d(3, 32, 3, padding=1)\n",
        "        self.conv2 = nn.Conv2d(32, 64, 5, padding=2)\n",
        "        self.conv3 = nn.Conv2d(64, 128, 5, padding=2)\n",
        "\n",
        "        self.pool = nn.MaxPool2d(2, 2)\n",
        "        self.fc1 = nn.Linear(8192, 512)\n",
        "        self.fc2 = nn.Linear(512, 128)\n",
        "        self.fc3 = nn.Linear(128, len(label_map))\n",
        "\n",
        "        # Define proportion of neurons to dropout to avoid overfitting\n",
        "        self.pool_dropout = nn.Dropout(0.25)\n",
        "        self.layer_dropout = nn.Dropout(0.25)\n",
        "\n",
        "    def forward(self, x):\n",
        "        x = x.float()\n",
        "        x = F.relu(self.conv1(x))\n",
        "        x = self.pool(x)\n",
        "        x = self.pool_dropout(x)\n",
        "\n",
        "        x = F.relu(self.conv2(x))\n",
        "        x = self.pool(x)\n",
        "        x = self.pool_dropout(x)\n",
        "\n",
        "        x = F.relu(self.conv3(x))\n",
        "        x = self.pool(x)\n",
        "        x = self.pool_dropout(x)\n",
        "\n",
        "        x = torch.flatten(x, 1)  # Flatten all dimensions except the batch\n",
        "        x = F.relu(self.fc1(x))\n",
        "        x = self.layer_dropout(x)\n",
        "        x = F.relu(self.fc2(x))\n",
        "        x = self.layer_dropout(x)\n",
        "        x = F.log_softmax(self.fc3(x), dim=1)\n",
        "        return x"
      ]
    },
    {
      "cell_type": "markdown",
      "metadata": {
        "id": "oW_k7fArEhcD"
      },
      "source": [
        "# Train and Test Functions"
      ]
    },
    {
      "cell_type": "code",
      "execution_count": 14,
      "metadata": {
        "id": "G_-3ecvsEhcD"
      },
      "outputs": [],
      "source": [
        "# Train function\n",
        "def train(dataloader, model, optimizer, loss_fn):\n",
        "    size = len(dataloader.dataset)\n",
        "    num_batches = len(dataloader)\n",
        "    train_loss = 0\n",
        "    correct = 0\n",
        "    model.train()\n",
        "\n",
        "    for batch, (images, categories) in enumerate(dataloader):\n",
        "        images, categories = images.to(device), categories.to(device)\n",
        "\n",
        "        one_hot_categories = torch.nn.functional.one_hot(categories.long(), 18).float()\n",
        "\n",
        "\n",
        "        optimizer.zero_grad()\n",
        "        pred = model(images)\n",
        "        loss = loss_fn(pred, one_hot_categories)\n",
        "        loss.backward()\n",
        "        optimizer.step()\n",
        "        _, pred = torch.max(pred, 1)\n",
        "\n",
        "        train_loss += loss.item()\n",
        "        correct += sum(x == y for x, y in zip(pred, categories))\n",
        "\n",
        "    average_train_loss = train_loss / num_batches\n",
        "    accuracy = correct / size\n",
        "    return accuracy, average_train_loss"
      ]
    },
    {
      "cell_type": "code",
      "execution_count": 15,
      "metadata": {
        "id": "lmKSakr4EhcD"
      },
      "outputs": [],
      "source": [
        "# Test function\n",
        "def test(dataloader, model, loss_fn):\n",
        "    size = len(dataloader.dataset)\n",
        "    num_batches = len(dataloader)\n",
        "    model.eval()\n",
        "    test_loss, correct = 0, 0\n",
        "\n",
        "    with torch.no_grad():\n",
        "      for batch, (images, categories) in enumerate(dataloader):\n",
        "          images, categories = images.to(device), categories.to(device)\n",
        "\n",
        "          one_hot_categories = torch.nn.functional.one_hot(categories.long(), 18).float()\n",
        "\n",
        "          pred = model(images)\n",
        "          loss = loss_fn(pred, one_hot_categories)\n",
        "          _, pred = torch.max(pred, 1)\n",
        "\n",
        "          test_loss += loss.item()\n",
        "          correct += sum(x == y for x, y in zip(pred, categories))\n",
        "\n",
        "    average_test_loss = test_loss / num_batches\n",
        "    accuracy = correct / size\n",
        "    return accuracy, average_test_loss"
      ]
    },
    {
      "cell_type": "code",
      "execution_count": 16,
      "metadata": {
        "id": "B_frBsmNEhcD"
      },
      "outputs": [],
      "source": [
        "BATCH_SIZE = 512\n",
        "\n",
        "def train_model(train_set, valid_set, model, loss_fn, optim, epochs=100, print_status=True):\n",
        "  # Define early stopping parameters\n",
        "  patience = 5\n",
        "  best_val_loss = float('inf')\n",
        "  epochs_no_improve = 0\n",
        "\n",
        "  # Return values\n",
        "  train_accuracies = []\n",
        "  train_losses = []\n",
        "  valid_accuracies = []\n",
        "  valid_losses = []\n",
        "\n",
        "  for t in tqdm(range(epochs)):\n",
        "      if print_status: print(f\"Epoch {t+1}:\")\n",
        "\n",
        "      train_loader = DataLoader(train_set, batch_size=BATCH_SIZE, shuffle=True)\n",
        "      valid_loader = DataLoader(valid_set, batch_size=BATCH_SIZE, shuffle=True)\n",
        "\n",
        "      # train\n",
        "      train_acc, train_loss = train(train_loader, model, optim, loss_fn)\n",
        "      train_accuracies.append(train_acc)\n",
        "      train_losses.append(train_loss)\n",
        "      if print_status: print(f\"\\tAverage train accuracy: {100*train_acc:0.2f}%\\t Avg train loss: {train_loss:>4f} \\t\")\n",
        "\n",
        "      # test\n",
        "      valid_acc, valid_loss = test(valid_loader, model, loss_fn)\n",
        "      valid_accuracies.append(valid_acc)\n",
        "      valid_losses.append(valid_loss)\n",
        "      if print_status: print(f\"\\Validation accuracy: {100*valid_acc:0.2f}% \\t Validation loss: {valid_loss:>4f}\")\n",
        "\n",
        "      # Check if validation loss has improved\n",
        "      if valid_loss < best_val_loss:\n",
        "          best_val_loss = valid_loss\n",
        "          epochs_no_improve = 0\n",
        "          # Save the model\n",
        "          torch.save(model.state_dict(), 'best_model.pth')\n",
        "      else:\n",
        "          epochs_no_improve += 1\n",
        "\n",
        "      # Check if early stopping criteria met\n",
        "      if epochs_no_improve == patience:\n",
        "          if print_status: print(\"No improvements, stopping earlier to avoid overfitting.\")\n",
        "          break\n",
        "\n",
        "  return train_accuracies, train_losses, valid_accuracies, valid_losses"
      ]
    },
    {
      "cell_type": "code",
      "execution_count": 17,
      "metadata": {
        "id": "A2PRmjWssX5S"
      },
      "outputs": [],
      "source": [
        "# Helper function to help plot accuracies\n",
        "def plot_accuracies(train_accuracies, valid_accuracies, model_name):\n",
        "    # Convert tensors to CPU if they are not already\n",
        "    if isinstance(train_accuracies[0], torch.Tensor):\n",
        "        train_accuracies = [x.cpu().detach().numpy() for x in train_accuracies]\n",
        "    if isinstance(valid_accuracies[0], torch.Tensor):\n",
        "        valid_accuracies = [x.cpu().detach().numpy() for x in valid_accuracies]\n",
        "\n",
        "    epochs = range(1, len(train_accuracies) + 1)\n",
        "\n",
        "    plt.figure(figsize=(10, 5))\n",
        "    plt.plot(epochs, train_accuracies, 'bo-', label='Training accuracy')\n",
        "    plt.plot(epochs, valid_accuracies, 'ro-', label='Validation accuracy')\n",
        "    plt.title(f'Training and Validation Accuracy for {model_name}')\n",
        "    plt.xlabel('Epoch')\n",
        "    plt.ylabel('Accuracy')\n",
        "    plt.legend()\n",
        "    plt.grid(True)\n",
        "    plt.show()\n"
      ]
    },
    {
      "cell_type": "code",
      "execution_count": 18,
      "metadata": {
        "id": "FaiaZYgeTaep"
      },
      "outputs": [],
      "source": [
        "RACE_GROUPS = {0: 'Black', 1: 'Indian', 2: 'East Asian', 3: 'Southeast Asian', 4: 'Middle Eastern', 5: 'Latino_Hispanic', 6: 'White', 7: 'All Race Groups'}\n",
        "\n",
        "def test_all_race_groups(model, loss_fn):\n",
        "  race_group_test_accuracies = []\n",
        "  race_group_test_losses = []\n",
        "\n",
        "  for idx, race in RACE_GROUPS.items():\n",
        "    race_group_test_df = test_df[test_df['race'] == race] if idx != len(RACE_GROUPS)-1 else heterogeneous_test_df\n",
        "    race_group_dataset = ImageDataset(data_frame=race_group_test_df)\n",
        "    race_group_test_loader = DataLoader(race_group_dataset, batch_size=BATCH_SIZE, shuffle=True)\n",
        "\n",
        "    test_acc, test_loss = test(race_group_test_loader, model, loss_fn)\n",
        "\n",
        "    race_group_test_accuracies.append(test_acc)\n",
        "    race_group_test_losses.append(test_loss)\n",
        "\n",
        "  return race_group_test_accuracies, race_group_test_losses"
      ]
    },
    {
      "cell_type": "code",
      "execution_count": 19,
      "metadata": {
        "id": "wbZs0XcNTkhu"
      },
      "outputs": [],
      "source": [
        "# Plot double bar graph to compare accuracies\n",
        "def plot_test_accuracies(homogeneous_test_accuracies, heterogeneous_test_accuracies):\n",
        "  bar_width = 0.35\n",
        "  index = np.arange(len(RACE_GROUPS))\n",
        "\n",
        "  # Convert tensors to CPU if they are not already\n",
        "  if isinstance(homogeneous_test_accuracies[0], torch.Tensor):\n",
        "      homogeneous_test_accuracies = [x.cpu().detach().numpy() * 100 for x in homogeneous_test_accuracies]\n",
        "  if isinstance(heterogeneous_test_accuracies[0], torch.Tensor):\n",
        "      heterogeneous_test_accuracies = [x.cpu().detach().numpy() * 100 for x in heterogeneous_test_accuracies]\n",
        "\n",
        "  plt.figure(figsize=(12, 6))\n",
        "\n",
        "  plt.bar(index, homogeneous_test_accuracies, bar_width, label='Homogeneously Trained Model')\n",
        "  plt.bar(index + bar_width, heterogeneous_test_accuracies, bar_width, label='Heterogeneously Tained Model')\n",
        "\n",
        "  # Add labels and title\n",
        "  plt.xlabel('Race Groups')\n",
        "  plt.ylabel('Test Accuracy (%)')\n",
        "  plt.title('Test Accuracies of Homogeneously vs Heterogeneously Trained Models by Race Groups')\n",
        "  plt.xticks(index + bar_width / 2, RACE_GROUPS.values(), rotation=30)\n",
        "  plt.legend()\n",
        "\n",
        "  plt.show()"
      ]
    },
    {
      "cell_type": "markdown",
      "metadata": {
        "id": "FJ9TFhc9EhcD"
      },
      "source": [
        "# Train Models"
      ]
    },
    {
      "cell_type": "markdown",
      "metadata": {
        "id": "x9tJfIflVMxO"
      },
      "source": [
        "### Train Model Homogeneously"
      ]
    },
    {
      "cell_type": "code",
      "execution_count": 20,
      "metadata": {
        "colab": {
          "base_uri": "https://localhost:8080/"
        },
        "id": "Z4lVWz9k5hgz",
        "outputId": "74d62a2a-28d9-41cc-9962-26e007def069"
      },
      "outputs": [
        {
          "name": "stdout",
          "output_type": "stream",
          "text": [
            "Homogeneous training set size: 14874\n",
            "Homogeneous validation set size: 1653\n"
          ]
        }
      ],
      "source": [
        "### TRAIN\n",
        "# Create model for predicting age range of face based on homogeneous data\n",
        "homogeneous_model = CNN().to(device)\n",
        "\n",
        "homogeneous_optim = torch.optim.SGD(homogeneous_model.parameters(), lr=0.1, momentum=0.9)\n",
        "homogeneous_loss = nn.CrossEntropyLoss()\n",
        "\n",
        "# Randomize rows\n",
        "randomized_df_homogeneous = homogeneous_train_df.sample(random_state=42069, frac=1)\n",
        "\n",
        "# Split into Training and Validation Sets\n",
        "train_size = int(0.9 * len(randomized_df_homogeneous))\n",
        "random_homogeneous_train_set = randomized_df_homogeneous[:train_size]\n",
        "random_homogeneous_validation_set = randomized_df_homogeneous[train_size:]\n",
        "\n",
        "# homogeneous training data\n",
        "transform = transforms.Compose([transforms.RandomHorizontalFlip(0.5)])\n",
        "\n",
        "homogeneous_train_set = ImageDataset(data_frame=random_homogeneous_train_set, transform=transform)\n",
        "homogeneous_valid_set = ImageDataset(data_frame=random_homogeneous_validation_set)\n",
        "\n",
        "print(f\"Homogeneous training set size: {len(homogeneous_train_set)}\")\n",
        "print(f\"Homogeneous validation set size: {len(homogeneous_valid_set)}\")"
      ]
    },
    {
      "cell_type": "code",
      "execution_count": 21,
      "metadata": {
        "colab": {
          "base_uri": "https://localhost:8080/"
        },
        "id": "UNsO9CzCEhcD",
        "outputId": "9adf9ce9-3155-4305-9340-2036b9149f32"
      },
      "outputs": [
        {
          "name": "stderr",
          "output_type": "stream",
          "text": [
            "\r  0%|          | 0/100 [00:00<?, ?it/s]"
          ]
        },
        {
          "name": "stdout",
          "output_type": "stream",
          "text": [
            "Epoch 1:\n",
            "\tAverage train accuracy: 15.99%\t Avg train loss: 2.594079 \t\n"
          ]
        },
        {
          "name": "stderr",
          "output_type": "stream",
          "text": [
            "\r  1%|          | 1/100 [00:23<38:54, 23.58s/it]"
          ]
        },
        {
          "name": "stdout",
          "output_type": "stream",
          "text": [
            "\\Validation accuracy: 17.54% \t Validation loss: 2.491053\n",
            "Epoch 2:\n",
            "\tAverage train accuracy: 17.74%\t Avg train loss: 2.499447 \t\n"
          ]
        },
        {
          "name": "stderr",
          "output_type": "stream",
          "text": [
            "\r  2%|▏         | 2/100 [00:46<37:53, 23.20s/it]"
          ]
        },
        {
          "name": "stdout",
          "output_type": "stream",
          "text": [
            "\\Validation accuracy: 17.54% \t Validation loss: 2.505110\n",
            "Epoch 3:\n",
            "\tAverage train accuracy: 17.81%\t Avg train loss: 2.499201 \t\n"
          ]
        },
        {
          "name": "stderr",
          "output_type": "stream",
          "text": [
            "\r  3%|▎         | 3/100 [01:09<37:19, 23.09s/it]"
          ]
        },
        {
          "name": "stdout",
          "output_type": "stream",
          "text": [
            "\\Validation accuracy: 17.60% \t Validation loss: 2.507693\n",
            "Epoch 4:\n",
            "\tAverage train accuracy: 17.82%\t Avg train loss: 2.498595 \t\n"
          ]
        },
        {
          "name": "stderr",
          "output_type": "stream",
          "text": [
            "\r  4%|▍         | 4/100 [01:33<37:22, 23.36s/it]"
          ]
        },
        {
          "name": "stdout",
          "output_type": "stream",
          "text": [
            "\\Validation accuracy: 17.54% \t Validation loss: 2.504064\n",
            "Epoch 5:\n",
            "\tAverage train accuracy: 18.43%\t Avg train loss: 2.477531 \t\n"
          ]
        },
        {
          "name": "stderr",
          "output_type": "stream",
          "text": [
            "\r  5%|▌         | 5/100 [01:55<36:17, 22.92s/it]"
          ]
        },
        {
          "name": "stdout",
          "output_type": "stream",
          "text": [
            "\\Validation accuracy: 14.88% \t Validation loss: 2.491983\n",
            "Epoch 6:\n",
            "\tAverage train accuracy: 18.50%\t Avg train loss: 2.463645 \t\n"
          ]
        },
        {
          "name": "stderr",
          "output_type": "stream",
          "text": [
            "\r  6%|▌         | 6/100 [02:19<36:37, 23.38s/it]"
          ]
        },
        {
          "name": "stdout",
          "output_type": "stream",
          "text": [
            "\\Validation accuracy: 21.66% \t Validation loss: 2.430861\n",
            "Epoch 7:\n",
            "\tAverage train accuracy: 20.42%\t Avg train loss: 2.434349 \t\n"
          ]
        },
        {
          "name": "stderr",
          "output_type": "stream",
          "text": [
            "\r  7%|▋         | 7/100 [02:42<36:05, 23.28s/it]"
          ]
        },
        {
          "name": "stdout",
          "output_type": "stream",
          "text": [
            "\\Validation accuracy: 21.11% \t Validation loss: 2.432523\n",
            "Epoch 8:\n",
            "\tAverage train accuracy: 20.18%\t Avg train loss: 2.413623 \t\n"
          ]
        },
        {
          "name": "stderr",
          "output_type": "stream",
          "text": [
            "\r  8%|▊         | 8/100 [03:04<35:07, 22.91s/it]"
          ]
        },
        {
          "name": "stdout",
          "output_type": "stream",
          "text": [
            "\\Validation accuracy: 21.78% \t Validation loss: 2.387886\n",
            "Epoch 9:\n",
            "\tAverage train accuracy: 22.03%\t Avg train loss: 2.360904 \t\n"
          ]
        },
        {
          "name": "stderr",
          "output_type": "stream",
          "text": [
            "\r  9%|▉         | 9/100 [03:27<34:48, 22.95s/it]"
          ]
        },
        {
          "name": "stdout",
          "output_type": "stream",
          "text": [
            "\\Validation accuracy: 19.48% \t Validation loss: 2.412141\n",
            "Epoch 10:\n",
            "\tAverage train accuracy: 22.91%\t Avg train loss: 2.297654 \t\n"
          ]
        },
        {
          "name": "stderr",
          "output_type": "stream",
          "text": [
            "\r 10%|█         | 10/100 [03:52<35:15, 23.51s/it]"
          ]
        },
        {
          "name": "stdout",
          "output_type": "stream",
          "text": [
            "\\Validation accuracy: 24.86% \t Validation loss: 2.236966\n",
            "Epoch 11:\n",
            "\tAverage train accuracy: 24.28%\t Avg train loss: 2.249275 \t\n"
          ]
        },
        {
          "name": "stderr",
          "output_type": "stream",
          "text": [
            "\r 11%|█         | 11/100 [04:15<34:28, 23.24s/it]"
          ]
        },
        {
          "name": "stdout",
          "output_type": "stream",
          "text": [
            "\\Validation accuracy: 23.71% \t Validation loss: 2.284781\n",
            "Epoch 12:\n",
            "\tAverage train accuracy: 24.44%\t Avg train loss: 2.204291 \t\n"
          ]
        },
        {
          "name": "stderr",
          "output_type": "stream",
          "text": [
            "\r 12%|█▏        | 12/100 [04:38<33:53, 23.10s/it]"
          ]
        },
        {
          "name": "stdout",
          "output_type": "stream",
          "text": [
            "\\Validation accuracy: 21.29% \t Validation loss: 2.241962\n",
            "Epoch 13:\n",
            "\tAverage train accuracy: 25.79%\t Avg train loss: 2.165624 \t\n"
          ]
        },
        {
          "name": "stderr",
          "output_type": "stream",
          "text": [
            "\r 13%|█▎        | 13/100 [05:01<33:34, 23.16s/it]"
          ]
        },
        {
          "name": "stdout",
          "output_type": "stream",
          "text": [
            "\\Validation accuracy: 26.80% \t Validation loss: 2.102431\n",
            "Epoch 14:\n",
            "\tAverage train accuracy: 27.65%\t Avg train loss: 2.106558 \t\n"
          ]
        },
        {
          "name": "stderr",
          "output_type": "stream",
          "text": [
            "\r 14%|█▍        | 14/100 [05:24<33:13, 23.18s/it]"
          ]
        },
        {
          "name": "stdout",
          "output_type": "stream",
          "text": [
            "\\Validation accuracy: 27.47% \t Validation loss: 2.080606\n",
            "Epoch 15:\n",
            "\tAverage train accuracy: 27.65%\t Avg train loss: 2.091523 \t\n"
          ]
        },
        {
          "name": "stderr",
          "output_type": "stream",
          "text": [
            "\r 15%|█▌        | 15/100 [05:47<32:38, 23.04s/it]"
          ]
        },
        {
          "name": "stdout",
          "output_type": "stream",
          "text": [
            "\\Validation accuracy: 27.53% \t Validation loss: 2.088209\n",
            "Epoch 16:\n",
            "\tAverage train accuracy: 28.22%\t Avg train loss: 2.055370 \t\n"
          ]
        },
        {
          "name": "stderr",
          "output_type": "stream",
          "text": [
            "\r 16%|█▌        | 16/100 [06:11<32:43, 23.37s/it]"
          ]
        },
        {
          "name": "stdout",
          "output_type": "stream",
          "text": [
            "\\Validation accuracy: 28.55% \t Validation loss: 2.070138\n",
            "Epoch 17:\n",
            "\tAverage train accuracy: 29.39%\t Avg train loss: 2.021830 \t\n"
          ]
        },
        {
          "name": "stderr",
          "output_type": "stream",
          "text": [
            "\r 17%|█▋        | 17/100 [06:34<32:20, 23.38s/it]"
          ]
        },
        {
          "name": "stdout",
          "output_type": "stream",
          "text": [
            "\\Validation accuracy: 28.37% \t Validation loss: 2.077287\n",
            "Epoch 18:\n",
            "\tAverage train accuracy: 29.72%\t Avg train loss: 2.005694 \t\n"
          ]
        },
        {
          "name": "stderr",
          "output_type": "stream",
          "text": [
            "\r 18%|█▊        | 18/100 [06:58<31:54, 23.35s/it]"
          ]
        },
        {
          "name": "stdout",
          "output_type": "stream",
          "text": [
            "\\Validation accuracy: 26.01% \t Validation loss: 2.125410\n",
            "Epoch 19:\n",
            "\tAverage train accuracy: 29.21%\t Avg train loss: 2.014021 \t\n"
          ]
        },
        {
          "name": "stderr",
          "output_type": "stream",
          "text": [
            "\r 19%|█▉        | 19/100 [07:21<31:43, 23.50s/it]"
          ]
        },
        {
          "name": "stdout",
          "output_type": "stream",
          "text": [
            "\\Validation accuracy: 30.85% \t Validation loss: 1.974142\n",
            "Epoch 20:\n",
            "\tAverage train accuracy: 31.05%\t Avg train loss: 1.976948 \t\n"
          ]
        },
        {
          "name": "stderr",
          "output_type": "stream",
          "text": [
            "\r 20%|██        | 20/100 [07:44<31:08, 23.35s/it]"
          ]
        },
        {
          "name": "stdout",
          "output_type": "stream",
          "text": [
            "\\Validation accuracy: 31.40% \t Validation loss: 1.923327\n",
            "Epoch 21:\n",
            "\tAverage train accuracy: 31.50%\t Avg train loss: 1.928878 \t\n"
          ]
        },
        {
          "name": "stderr",
          "output_type": "stream",
          "text": [
            "\r 21%|██        | 21/100 [08:08<30:38, 23.27s/it]"
          ]
        },
        {
          "name": "stdout",
          "output_type": "stream",
          "text": [
            "\\Validation accuracy: 31.64% \t Validation loss: 1.984585\n",
            "Epoch 22:\n",
            "\tAverage train accuracy: 32.93%\t Avg train loss: 1.897043 \t\n"
          ]
        },
        {
          "name": "stderr",
          "output_type": "stream",
          "text": [
            "\r 22%|██▏       | 22/100 [08:31<30:20, 23.34s/it]"
          ]
        },
        {
          "name": "stdout",
          "output_type": "stream",
          "text": [
            "\\Validation accuracy: 30.91% \t Validation loss: 1.941552\n",
            "Epoch 23:\n",
            "\tAverage train accuracy: 32.26%\t Avg train loss: 1.871347 \t\n"
          ]
        },
        {
          "name": "stderr",
          "output_type": "stream",
          "text": [
            "\r 23%|██▎       | 23/100 [08:54<29:37, 23.08s/it]"
          ]
        },
        {
          "name": "stdout",
          "output_type": "stream",
          "text": [
            "\\Validation accuracy: 30.85% \t Validation loss: 1.958964\n",
            "Epoch 24:\n",
            "\tAverage train accuracy: 33.45%\t Avg train loss: 1.862183 \t\n"
          ]
        },
        {
          "name": "stderr",
          "output_type": "stream",
          "text": [
            "\r 24%|██▍       | 24/100 [09:17<29:20, 23.16s/it]"
          ]
        },
        {
          "name": "stdout",
          "output_type": "stream",
          "text": [
            "\\Validation accuracy: 33.70% \t Validation loss: 1.870895\n",
            "Epoch 25:\n",
            "\tAverage train accuracy: 34.42%\t Avg train loss: 1.824395 \t\n"
          ]
        },
        {
          "name": "stderr",
          "output_type": "stream",
          "text": [
            "\r 25%|██▌       | 25/100 [09:41<29:26, 23.55s/it]"
          ]
        },
        {
          "name": "stdout",
          "output_type": "stream",
          "text": [
            "\\Validation accuracy: 30.61% \t Validation loss: 1.902541\n",
            "Epoch 26:\n",
            "\tAverage train accuracy: 34.24%\t Avg train loss: 1.835183 \t\n"
          ]
        },
        {
          "name": "stderr",
          "output_type": "stream",
          "text": [
            "\r 26%|██▌       | 26/100 [10:05<28:56, 23.47s/it]"
          ]
        },
        {
          "name": "stdout",
          "output_type": "stream",
          "text": [
            "\\Validation accuracy: 29.89% \t Validation loss: 2.016828\n",
            "Epoch 27:\n",
            "\tAverage train accuracy: 35.40%\t Avg train loss: 1.801624 \t\n"
          ]
        },
        {
          "name": "stderr",
          "output_type": "stream",
          "text": [
            "\r 27%|██▋       | 27/100 [10:27<28:13, 23.21s/it]"
          ]
        },
        {
          "name": "stdout",
          "output_type": "stream",
          "text": [
            "\\Validation accuracy: 35.15% \t Validation loss: 1.836237\n",
            "Epoch 28:\n",
            "\tAverage train accuracy: 36.07%\t Avg train loss: 1.756744 \t\n"
          ]
        },
        {
          "name": "stderr",
          "output_type": "stream",
          "text": [
            "\r 28%|██▊       | 28/100 [10:52<28:21, 23.63s/it]"
          ]
        },
        {
          "name": "stdout",
          "output_type": "stream",
          "text": [
            "\\Validation accuracy: 33.70% \t Validation loss: 1.807816\n",
            "Epoch 29:\n",
            "\tAverage train accuracy: 35.37%\t Avg train loss: 1.764106 \t\n"
          ]
        },
        {
          "name": "stderr",
          "output_type": "stream",
          "text": [
            "\r 29%|██▉       | 29/100 [11:15<27:49, 23.52s/it]"
          ]
        },
        {
          "name": "stdout",
          "output_type": "stream",
          "text": [
            "\\Validation accuracy: 34.18% \t Validation loss: 1.823549\n",
            "Epoch 30:\n",
            "\tAverage train accuracy: 36.33%\t Avg train loss: 1.735439 \t\n"
          ]
        },
        {
          "name": "stderr",
          "output_type": "stream",
          "text": [
            "\r 30%|███       | 30/100 [11:39<27:30, 23.57s/it]"
          ]
        },
        {
          "name": "stdout",
          "output_type": "stream",
          "text": [
            "\\Validation accuracy: 34.54% \t Validation loss: 1.829530\n",
            "Epoch 31:\n",
            "\tAverage train accuracy: 37.54%\t Avg train loss: 1.712429 \t\n"
          ]
        },
        {
          "name": "stderr",
          "output_type": "stream",
          "text": [
            "\r 31%|███       | 31/100 [12:01<26:44, 23.26s/it]"
          ]
        },
        {
          "name": "stdout",
          "output_type": "stream",
          "text": [
            "\\Validation accuracy: 33.51% \t Validation loss: 1.837686\n",
            "Epoch 32:\n",
            "\tAverage train accuracy: 36.65%\t Avg train loss: 1.734546 \t\n"
          ]
        },
        {
          "name": "stderr",
          "output_type": "stream",
          "text": [
            "\r 32%|███▏      | 32/100 [12:25<26:24, 23.31s/it]"
          ]
        },
        {
          "name": "stdout",
          "output_type": "stream",
          "text": [
            "\\Validation accuracy: 34.30% \t Validation loss: 1.839965\n",
            "Epoch 33:\n",
            "\tAverage train accuracy: 38.10%\t Avg train loss: 1.703204 \t\n"
          ]
        },
        {
          "name": "stderr",
          "output_type": "stream",
          "text": [
            "\r 32%|███▏      | 32/100 [12:48<27:13, 24.02s/it]"
          ]
        },
        {
          "name": "stdout",
          "output_type": "stream",
          "text": [
            "\\Validation accuracy: 32.30% \t Validation loss: 1.908653\n",
            "No improvements, stopping earlier to avoid overfitting.\n"
          ]
        },
        {
          "name": "stderr",
          "output_type": "stream",
          "text": [
            "\n"
          ]
        }
      ],
      "source": [
        "# Train model\n",
        "train_accuracies, train_losses, valid_accuracies, valid_losses = train_model(homogeneous_train_set, homogeneous_valid_set, homogeneous_model, homogeneous_loss, homogeneous_optim)"
      ]
    },
    {
      "cell_type": "code",
      "execution_count": 22,
      "metadata": {
        "colab": {
          "base_uri": "https://localhost:8080/",
          "height": 487
        },
        "id": "EfnaEawasESL",
        "outputId": "327cb2b6-abd4-4450-b5c7-a03c2046d118"
      },
      "outputs": [
        {
          "data": {
            "image/png": "[encoded data removed]",
            "text/plain": [
              "<Figure size 1000x500 with 1 Axes>"
            ]
          },
          "metadata": {},
          "output_type": "display_data"
        }
      ],
      "source": [
        "# Plot accuracies accross epochs\n",
        "plot_accuracies(train_accuracies, valid_accuracies, 'Homogeneously Trained Model')"
      ]
    },
    {
      "cell_type": "markdown",
      "metadata": {
        "id": "E0QgdVOhVc5h"
      },
      "source": [
        "### Train Model Heterogeneously"
      ]
    },
    {
      "cell_type": "code",
      "execution_count": 23,
      "metadata": {
        "colab": {
          "base_uri": "https://localhost:8080/"
        },
        "id": "w0rugBrl5skg",
        "outputId": "3de2a39d-a090-4f55-8747-74c8e6be6ff6"
      },
      "outputs": [
        {
          "name": "stdout",
          "output_type": "stream",
          "text": [
            "Heterogeneous training set size: 78069\n",
            "Heterogeneous validation set size: 8675\n"
          ]
        }
      ],
      "source": [
        "### TRAIN\n",
        "# Initialize model\n",
        "heterogeneous_model = CNN().to(device)\n",
        "heterogeneous_optim = torch.optim.SGD(heterogeneous_model.parameters(), lr=0.1, momentum=0.9)\n",
        "heterogeneous_loss = nn.CrossEntropyLoss()\n",
        "\n",
        "\n",
        "# Randomize rows\n",
        "randomized_df_heterogeneous = heterogeneous_train_df.sample(random_state=42069, frac=1)\n",
        "\n",
        "# Split into Training and Validation Sets\n",
        "train_size = int(0.9 * len(randomized_df_heterogeneous))\n",
        "random_heterogeneous_train_set = randomized_df_heterogeneous[:train_size]\n",
        "random_heterogeneous_validation_set = randomized_df_heterogeneous[train_size:]\n",
        "\n",
        "# homogeneous training data\n",
        "transform = transforms.Compose([transforms.RandomHorizontalFlip(0.5)])\n",
        "\n",
        "heterogeneous_train_set = ImageDataset(data_frame=random_heterogeneous_train_set, transform=transform)\n",
        "heterogeneous_valid_set = ImageDataset(data_frame=random_heterogeneous_validation_set)\n",
        "\n",
        "print(f\"Heterogeneous training set size: {len(heterogeneous_train_set)}\")\n",
        "print(f\"Heterogeneous validation set size: {len(heterogeneous_valid_set)}\")"
      ]
    },
    {
      "cell_type": "code",
      "execution_count": 24,
      "metadata": {
        "colab": {
          "base_uri": "https://localhost:8080/"
        },
        "id": "swHdRkHdVf7s",
        "outputId": "e6a4e2b0-2dd8-4582-aac2-32efbcd329b5"
      },
      "outputs": [
        {
          "name": "stderr",
          "output_type": "stream",
          "text": [
            "\r  0%|          | 0/100 [00:00<?, ?it/s]"
          ]
        },
        {
          "name": "stdout",
          "output_type": "stream",
          "text": [
            "Epoch 1:\n",
            "\tAverage train accuracy: 16.42%\t Avg train loss: 2.552407 \t\n"
          ]
        },
        {
          "name": "stderr",
          "output_type": "stream",
          "text": [
            "\r  1%|          | 1/100 [02:04<3:25:58, 124.84s/it]"
          ]
        },
        {
          "name": "stdout",
          "output_type": "stream",
          "text": [
            "\\Validation accuracy: 18.96% \t Validation loss: 2.497532\n",
            "Epoch 2:\n",
            "\tAverage train accuracy: 22.35%\t Avg train loss: 2.352501 \t\n"
          ]
        },
        {
          "name": "stderr",
          "output_type": "stream",
          "text": [
            "\r  2%|▏         | 2/100 [04:07<3:21:25, 123.32s/it]"
          ]
        },
        {
          "name": "stdout",
          "output_type": "stream",
          "text": [
            "\\Validation accuracy: 28.37% \t Validation loss: 2.120643\n",
            "Epoch 3:\n",
            "\tAverage train accuracy: 28.63%\t Avg train loss: 2.077894 \t\n"
          ]
        },
        {
          "name": "stderr",
          "output_type": "stream",
          "text": [
            "\r  3%|▎         | 3/100 [06:09<3:18:49, 122.98s/it]"
          ]
        },
        {
          "name": "stdout",
          "output_type": "stream",
          "text": [
            "\\Validation accuracy: 31.40% \t Validation loss: 1.957385\n",
            "Epoch 4:\n",
            "\tAverage train accuracy: 31.86%\t Avg train loss: 1.928020 \t\n"
          ]
        },
        {
          "name": "stderr",
          "output_type": "stream",
          "text": [
            "\r  4%|▍         | 4/100 [08:11<3:15:44, 122.34s/it]"
          ]
        },
        {
          "name": "stdout",
          "output_type": "stream",
          "text": [
            "\\Validation accuracy: 36.30% \t Validation loss: 1.768805\n",
            "Epoch 5:\n",
            "\tAverage train accuracy: 34.25%\t Avg train loss: 1.829688 \t\n"
          ]
        },
        {
          "name": "stderr",
          "output_type": "stream",
          "text": [
            "\r  5%|▌         | 5/100 [10:13<3:13:33, 122.24s/it]"
          ]
        },
        {
          "name": "stdout",
          "output_type": "stream",
          "text": [
            "\\Validation accuracy: 35.57% \t Validation loss: 1.729501\n",
            "Epoch 6:\n",
            "\tAverage train accuracy: 35.89%\t Avg train loss: 1.765019 \t\n"
          ]
        },
        {
          "name": "stderr",
          "output_type": "stream",
          "text": [
            "\r  6%|▌         | 6/100 [12:15<3:11:45, 122.40s/it]"
          ]
        },
        {
          "name": "stdout",
          "output_type": "stream",
          "text": [
            "\\Validation accuracy: 38.81% \t Validation loss: 1.642239\n",
            "Epoch 7:\n",
            "\tAverage train accuracy: 37.18%\t Avg train loss: 1.710678 \t\n"
          ]
        },
        {
          "name": "stderr",
          "output_type": "stream",
          "text": [
            "\r  7%|▋         | 7/100 [14:18<3:10:01, 122.60s/it]"
          ]
        },
        {
          "name": "stdout",
          "output_type": "stream",
          "text": [
            "\\Validation accuracy: 40.77% \t Validation loss: 1.584483\n",
            "Epoch 8:\n",
            "\tAverage train accuracy: 37.90%\t Avg train loss: 1.680717 \t\n"
          ]
        },
        {
          "name": "stderr",
          "output_type": "stream",
          "text": [
            "\r  8%|▊         | 8/100 [16:27<3:11:04, 124.62s/it]"
          ]
        },
        {
          "name": "stdout",
          "output_type": "stream",
          "text": [
            "\\Validation accuracy: 42.07% \t Validation loss: 1.547571\n",
            "Epoch 9:\n",
            "\tAverage train accuracy: 39.02%\t Avg train loss: 1.637351 \t\n"
          ]
        },
        {
          "name": "stderr",
          "output_type": "stream",
          "text": [
            "\r  9%|▉         | 9/100 [18:31<3:08:32, 124.32s/it]"
          ]
        },
        {
          "name": "stdout",
          "output_type": "stream",
          "text": [
            "\\Validation accuracy: 40.52% \t Validation loss: 1.587104\n",
            "Epoch 10:\n",
            "\tAverage train accuracy: 39.73%\t Avg train loss: 1.617960 \t\n"
          ]
        },
        {
          "name": "stderr",
          "output_type": "stream",
          "text": [
            "\r 10%|█         | 10/100 [20:34<3:05:49, 123.89s/it]"
          ]
        },
        {
          "name": "stdout",
          "output_type": "stream",
          "text": [
            "\\Validation accuracy: 40.29% \t Validation loss: 1.585221\n",
            "Epoch 11:\n",
            "\tAverage train accuracy: 40.14%\t Avg train loss: 1.598476 \t\n"
          ]
        },
        {
          "name": "stderr",
          "output_type": "stream",
          "text": [
            "\r 11%|█         | 11/100 [22:44<3:06:37, 125.81s/it]"
          ]
        },
        {
          "name": "stdout",
          "output_type": "stream",
          "text": [
            "\\Validation accuracy: 39.78% \t Validation loss: 1.589121\n",
            "Epoch 12:\n",
            "\tAverage train accuracy: 40.53%\t Avg train loss: 1.582864 \t\n"
          ]
        },
        {
          "name": "stderr",
          "output_type": "stream",
          "text": [
            "\r 12%|█▏        | 12/100 [24:58<3:07:57, 128.15s/it]"
          ]
        },
        {
          "name": "stdout",
          "output_type": "stream",
          "text": [
            "\\Validation accuracy: 41.52% \t Validation loss: 1.516466\n",
            "Epoch 13:\n",
            "\tAverage train accuracy: 41.19%\t Avg train loss: 1.566327 \t\n"
          ]
        },
        {
          "name": "stderr",
          "output_type": "stream",
          "text": [
            "\r 13%|█▎        | 13/100 [27:02<3:04:09, 127.01s/it]"
          ]
        },
        {
          "name": "stdout",
          "output_type": "stream",
          "text": [
            "\\Validation accuracy: 42.66% \t Validation loss: 1.506851\n",
            "Epoch 14:\n",
            "\tAverage train accuracy: 41.76%\t Avg train loss: 1.541415 \t\n"
          ]
        },
        {
          "name": "stderr",
          "output_type": "stream",
          "text": [
            "\r 14%|█▍        | 14/100 [29:03<2:59:34, 125.28s/it]"
          ]
        },
        {
          "name": "stdout",
          "output_type": "stream",
          "text": [
            "\\Validation accuracy: 42.43% \t Validation loss: 1.494413\n",
            "Epoch 15:\n",
            "\tAverage train accuracy: 41.99%\t Avg train loss: 1.536395 \t\n"
          ]
        },
        {
          "name": "stderr",
          "output_type": "stream",
          "text": [
            "\r 15%|█▌        | 15/100 [31:04<2:55:36, 123.96s/it]"
          ]
        },
        {
          "name": "stdout",
          "output_type": "stream",
          "text": [
            "\\Validation accuracy: 43.25% \t Validation loss: 1.485359\n",
            "Epoch 16:\n",
            "\tAverage train accuracy: 41.99%\t Avg train loss: 1.530113 \t\n"
          ]
        },
        {
          "name": "stderr",
          "output_type": "stream",
          "text": [
            "\r 16%|█▌        | 16/100 [33:04<2:51:55, 122.80s/it]"
          ]
        },
        {
          "name": "stdout",
          "output_type": "stream",
          "text": [
            "\\Validation accuracy: 42.04% \t Validation loss: 1.500499\n",
            "Epoch 17:\n",
            "\tAverage train accuracy: 42.82%\t Avg train loss: 1.507603 \t\n"
          ]
        },
        {
          "name": "stderr",
          "output_type": "stream",
          "text": [
            "\r 17%|█▋        | 17/100 [35:03<2:48:18, 121.67s/it]"
          ]
        },
        {
          "name": "stdout",
          "output_type": "stream",
          "text": [
            "\\Validation accuracy: 43.65% \t Validation loss: 1.484324\n",
            "Epoch 18:\n",
            "\tAverage train accuracy: 42.67%\t Avg train loss: 1.505738 \t\n"
          ]
        },
        {
          "name": "stderr",
          "output_type": "stream",
          "text": [
            "\r 18%|█▊        | 18/100 [37:06<2:46:44, 122.00s/it]"
          ]
        },
        {
          "name": "stdout",
          "output_type": "stream",
          "text": [
            "\\Validation accuracy: 43.03% \t Validation loss: 1.466574\n",
            "Epoch 19:\n",
            "\tAverage train accuracy: 43.34%\t Avg train loss: 1.489629 \t\n"
          ]
        },
        {
          "name": "stderr",
          "output_type": "stream",
          "text": [
            "\r 19%|█▉        | 19/100 [39:08<2:44:36, 121.93s/it]"
          ]
        },
        {
          "name": "stdout",
          "output_type": "stream",
          "text": [
            "\\Validation accuracy: 44.09% \t Validation loss: 1.470065\n",
            "Epoch 20:\n",
            "\tAverage train accuracy: 43.38%\t Avg train loss: 1.481137 \t\n"
          ]
        },
        {
          "name": "stderr",
          "output_type": "stream",
          "text": [
            "\r 20%|██        | 20/100 [41:10<2:42:48, 122.10s/it]"
          ]
        },
        {
          "name": "stdout",
          "output_type": "stream",
          "text": [
            "\\Validation accuracy: 43.39% \t Validation loss: 1.480100\n",
            "Epoch 21:\n",
            "\tAverage train accuracy: 43.35%\t Avg train loss: 1.480933 \t\n"
          ]
        },
        {
          "name": "stderr",
          "output_type": "stream",
          "text": [
            "\r 21%|██        | 21/100 [43:13<2:41:09, 122.39s/it]"
          ]
        },
        {
          "name": "stdout",
          "output_type": "stream",
          "text": [
            "\\Validation accuracy: 42.96% \t Validation loss: 1.476578\n",
            "Epoch 22:\n",
            "\tAverage train accuracy: 43.68%\t Avg train loss: 1.470386 \t\n"
          ]
        },
        {
          "name": "stderr",
          "output_type": "stream",
          "text": [
            "\r 22%|██▏       | 22/100 [45:13<2:38:11, 121.69s/it]"
          ]
        },
        {
          "name": "stdout",
          "output_type": "stream",
          "text": [
            "\\Validation accuracy: 43.67% \t Validation loss: 1.468227\n",
            "Epoch 23:\n",
            "\tAverage train accuracy: 44.01%\t Avg train loss: 1.460992 \t\n"
          ]
        },
        {
          "name": "stderr",
          "output_type": "stream",
          "text": [
            "\r 22%|██▏       | 22/100 [47:13<2:47:27, 128.82s/it]"
          ]
        },
        {
          "name": "stdout",
          "output_type": "stream",
          "text": [
            "\\Validation accuracy: 42.41% \t Validation loss: 1.517530\n",
            "No improvements, stopping earlier to avoid overfitting.\n"
          ]
        },
        {
          "name": "stderr",
          "output_type": "stream",
          "text": [
            "\n"
          ]
        }
      ],
      "source": [
        "# Train model\n",
        "train_accuracies, train_losses, valid_accuracies, valid_losses = train_model(heterogeneous_train_set, heterogeneous_valid_set, heterogeneous_model, heterogeneous_loss, heterogeneous_optim)"
      ]
    },
    {
      "cell_type": "code",
      "execution_count": 25,
      "metadata": {
        "colab": {
          "base_uri": "https://localhost:8080/",
          "height": 487
        },
        "id": "gZrZ5QeutqFl",
        "outputId": "2387f645-5f53-4bb6-c80d-7c4f76becbc3"
      },
      "outputs": [
        {
          "data": {
            "image/png": "[encoded data removed]",
            "text/plain": [
              "<Figure size 1000x500 with 1 Axes>"
            ]
          },
          "metadata": {},
          "output_type": "display_data"
        }
      ],
      "source": [
        "# Plot accuracies accross epochs\n",
        "plot_accuracies(train_accuracies, valid_accuracies, 'Heterogeneously Trained Model')"
      ]
    },
    {
      "cell_type": "markdown",
      "metadata": {
        "id": "1Po8IJLbUFay"
      },
      "source": [
        "# Test Trained Models"
      ]
    },
    {
      "cell_type": "code",
      "execution_count": 26,
      "metadata": {
        "id": "D19qsqnPVtGZ"
      },
      "outputs": [],
      "source": [
        "### TEST\n",
        "homogeneous_race_accs, _ = test_all_race_groups(homogeneous_model, homogeneous_loss)\n",
        "heterogeneous_race_accs, _ = test_all_race_groups(heterogeneous_model, heterogeneous_loss)"
      ]
    },
    {
      "cell_type": "code",
      "execution_count": 27,
      "metadata": {
        "colab": {
          "base_uri": "https://localhost:8080/",
          "height": 618
        },
        "id": "LJiNCPxdrKk6",
        "outputId": "86d10f34-5a6e-4eb8-9af1-bf1a855e15e9"
      },
      "outputs": [
        {
          "data": {
            "image/png": "[encoded data removed]",
            "text/plain": [
              "<Figure size 1200x600 with 1 Axes>"
            ]
          },
          "metadata": {},
          "output_type": "display_data"
        }
      ],
      "source": [
        "plot_test_accuracies(homogeneous_race_accs, heterogeneous_race_accs)"
      ]
    },
    {
      "cell_type": "markdown",
      "metadata": {
        "id": "zxCz6eJQEkIK"
      },
      "source": [
        "# Display Learned Features"
      ]
    },
    {
      "cell_type": "code",
      "execution_count": 28,
      "metadata": {
        "id": "DvlJcP-_Ege7"
      },
      "outputs": [],
      "source": [
        "def display_features(model, model_name):\n",
        "    num_filters = model.conv3.weight.shape[0]\n",
        "\n",
        "    num_cols = 16\n",
        "    num_rows = (num_filters + num_cols - 1) // num_cols\n",
        "\n",
        "    plt.figure(figsize=(16, num_rows))\n",
        "    for i in range(num_filters):\n",
        "        plt.subplot(num_rows, num_cols, i+1)\n",
        "        filter_weights = model.conv3.weight[i][0].cpu().detach().numpy()\n",
        "        plt.imshow(filter_weights, cmap='gray', interpolation='nearest')\n",
        "        plt.xticks([])\n",
        "        plt.yticks([])\n",
        "\n",
        "    plt.tight_layout()\n",
        "    plt.suptitle(f'Final features extracted by {model_name}', fontsize=16, y=1.02)\n",
        "    plt.show()"
      ]
    },
    {
      "cell_type": "code",
      "execution_count": 31,
      "metadata": {
        "colab": {
          "base_uri": "https://localhost:8080/",
          "height": 642
        },
        "id": "2SJ3f01SxL6N",
        "outputId": "e04f1bee-c7c3-450b-f5ff-e7ebdbc08d45"
      },
      "outputs": [
        {
          "data": {
            "image/png": "[encoded data removed]",
            "text/plain": [
              "<Figure size 1600x800 with 128 Axes>"
            ]
          },
          "metadata": {},
          "output_type": "display_data"
        }
      ],
      "source": [
        "# Final features extracted by homogeneous model\n",
        "display_features(homogeneous_model, \"Homogeneous Model\")"
      ]
    },
    {
      "cell_type": "code",
      "execution_count": 30,
      "metadata": {
        "colab": {
          "base_uri": "https://localhost:8080/",
          "height": 642
        },
        "id": "kuXvrOtOrIyH",
        "outputId": "7f508385-823c-42aa-fce9-afc58a644c77"
      },
      "outputs": [
        {
          "data": {
            "image/png": "[encoded data removed]",
            "text/plain": [
              "<Figure size 1600x800 with 128 Axes>"
            ]
          },
          "metadata": {},
          "output_type": "display_data"
        }
      ],
      "source": [
        "# Final features extracted by heterogeneous model\n",
        "display_features(heterogeneous_model, \"Heterogeneous Model\")"
      ]
    }
  ],
  "metadata": {
    "accelerator": "GPU",
    "colab": {
      "gpuType": "T4",
      "provenance": []
    },
    "kernelspec": {
      "display_name": "Python 3",
      "name": "python3"
    },
    "language_info": {
      "codemirror_mode": {
        "name": "ipython",
        "version": 3
      },
      "file_extension": ".py",
      "mimetype": "text/x-python",
      "name": "python",
      "nbconvert_exporter": "python",
      "pygments_lexer": "ipython3",
      "version": "3.11.7"
    }
  },
  "nbformat": 4,
  "nbformat_minor": 0
}
